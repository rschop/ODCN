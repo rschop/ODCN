{
 "cells": [
  {
   "cell_type": "markdown",
   "metadata": {},
   "source": [
    "# Estimate car price - Tidy up\n",
    "#### Andreas Forster\n",
    "This notebook is part of a Machine Learning project that is described and available to download on \n",
    "<BR>https://blogs.sap.com/2019/11/05/hands-on-tutoria…hana-with-python/\n",
    "<BR><BR>The purpose of this notebook is to tidy up and to delete the tables and views that were created by the earlier notebooks.\n",
    "-  This notebook is optional. \n",
    "-  Only execute this notebook if you want to delete the tables and views that were created in the earlier notebooks"
   ]
  },
  {
   "cell_type": "markdown",
   "metadata": {},
   "source": [
    "### Steps in this notebook\n",
    "-  Connect to SAP HANA\n",
    "-  Individually delete all tables and views that were created in the earlier notebooks\n",
    "\n",
    "### Documentation\n",
    "-  SAP HANA Python Client:  \n",
    "   https://help.sap.com/viewer/0eec0d68141541d1b07893a39944924e/latest/en-US/f3b8fabf34324302b123297cdbe710f0.html "
   ]
  },
  {
   "cell_type": "markdown",
   "metadata": {},
   "source": [
    "### Connect to SAP HANA\n",
    "In this Notebook we are just tidying up and delete the content that was created earlier. Since no Machine Learning will be applied, the \"SAP HANA Python Client\" will be used (instead of the SAP HANA Python Client API for Machine Learning Algorithms).\n",
    "<BR><BR>Use the connection details that are saved in the hdbuserstore application."
   ]
  },
  {
   "cell_type": "code",
   "execution_count": 1,
   "metadata": {},
   "outputs": [],
   "source": [
    "from hdbcli import dbapi\n",
    "conn = dbapi.connect(address = 'hxe.richardschop.nl', port = 39015, database = 'HXE', currentSchema = 'RSCHOP', user = 'RSCHOP', password = 'Aloha1503')"
   ]
  },
  {
   "cell_type": "markdown",
   "metadata": {},
   "source": [
    "Open a conection to SAP HANA"
   ]
  },
  {
   "cell_type": "code",
   "execution_count": 2,
   "metadata": {},
   "outputs": [],
   "source": [
    "cursor = conn.cursor()"
   ]
  },
  {
   "cell_type": "markdown",
   "metadata": {},
   "source": [
    "Delete the tables and views"
   ]
  },
  {
   "cell_type": "code",
   "execution_count": 3,
   "metadata": {},
   "outputs": [
    {
     "data": {
      "text/plain": [
       "True"
      ]
     },
     "execution_count": 3,
     "metadata": {},
     "output_type": "execute_result"
    }
   ],
   "source": [
    "sql = 'DROP TABLE RSCHOP.USEDCARPRICES'\n",
    "cursor.execute(sql)"
   ]
  },
  {
   "cell_type": "code",
   "execution_count": 4,
   "metadata": {},
   "outputs": [
    {
     "data": {
      "text/plain": [
       "True"
      ]
     },
     "execution_count": 4,
     "metadata": {},
     "output_type": "execute_result"
    }
   ],
   "source": [
    "sql = 'DROP TABLE RSCHOP.USEDCARPRICES_TOPREDICT'\n",
    "cursor.execute(sql)"
   ]
  },
  {
   "cell_type": "code",
   "execution_count": 5,
   "metadata": {},
   "outputs": [
    {
     "data": {
      "text/plain": [
       "True"
      ]
     },
     "execution_count": 5,
     "metadata": {},
     "output_type": "execute_result"
    }
   ],
   "source": [
    "sql = 'DROP VIEW RSCHOP.USEDCARPRICES_TOTRAIN'\n",
    "cursor.execute(sql)"
   ]
  },
  {
   "cell_type": "code",
   "execution_count": 6,
   "metadata": {},
   "outputs": [
    {
     "data": {
      "text/plain": [
       "True"
      ]
     },
     "execution_count": 6,
     "metadata": {},
     "output_type": "execute_result"
    }
   ],
   "source": [
    "sql = 'DROP TABLE RSCHOP.USEDCARPRICES_MODEL_REGTREE'\n",
    "cursor.execute(sql)"
   ]
  },
  {
   "cell_type": "code",
   "execution_count": 7,
   "metadata": {},
   "outputs": [
    {
     "data": {
      "text/plain": [
       "True"
      ]
     },
     "execution_count": 7,
     "metadata": {},
     "output_type": "execute_result"
    }
   ],
   "source": [
    "sql = 'DROP TABLE RSCHOP.USEDCARPRICES_PREDICTED'\n",
    "cursor.execute(sql)"
   ]
  },
  {
   "cell_type": "markdown",
   "metadata": {},
   "source": [
    "Close the connection"
   ]
  },
  {
   "cell_type": "code",
   "execution_count": 8,
   "metadata": {},
   "outputs": [],
   "source": [
    "cursor.close()"
   ]
  },
  {
   "cell_type": "code",
   "execution_count": null,
   "metadata": {},
   "outputs": [],
   "source": []
  },
  {
   "cell_type": "code",
   "execution_count": null,
   "metadata": {},
   "outputs": [],
   "source": []
  }
 ],
 "metadata": {
  "createdAt": "2019-05-03T17:30:03Z",
  "description": "Apply the trained model on \"new\" vehicles for which the price is not yet known.",
  "kernelspec": {
   "display_name": "HANAEnv",
   "language": "python",
   "name": "hanaenv"
  },
  "language_info": {
   "codemirror_mode": {
    "name": "ipython",
    "version": 3
   },
   "file_extension": ".py",
   "mimetype": "text/x-python",
   "name": "python",
   "nbconvert_exporter": "python",
   "pygments_lexer": "ipython3",
   "version": "3.7.4"
  },
  "modifiedAt": "2019-05-03T17:30:03Z",
  "name": "40 Apply saved model",
  "rating": 0,
  "scenarioId": "3bd5ee44-92b1-4224-95dc-4e688a637e85"
 },
 "nbformat": 4,
 "nbformat_minor": 4
}
