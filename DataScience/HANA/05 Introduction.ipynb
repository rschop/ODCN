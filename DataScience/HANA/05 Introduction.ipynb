{
 "cells": [
  {
   "cell_type": "markdown",
   "metadata": {},
   "source": [
    "# Estimate car price - Introduction to Python wrapper for SAP HANA\n",
    "#### Andreas Forster\n",
    "This notebook is part of a Machine Learning project that is described and available to download on \n",
    "<BR>https://blogs.sap.com/2019/11/05/hands-on-tutoria…hana-with-python/\n",
    "<BR><BR>The purpose of this notebook is for you to become familiar with the most important steps to train a Machine Learning model in SAP HANA through Python. The following notebooks contain a more realistic example."
   ]
  },
  {
   "cell_type": "markdown",
   "metadata": {},
   "source": [
    "### Steps in this notebook\n",
    "-  Connect to SAP HANA\n",
    "-  Create a SAP HANA DataFrame which points to the data\n",
    "-  Take a brief look at the data\n",
    "-  Deal with missing values by ignoring all rows that are not complete\n",
    "-  Train a Descision Tree in SAP HANA to estimate the price of a vehicle\n",
    "-  Calculate the model's quality on the training data\n",
    "\n",
    "### Documentation\n",
    "-  SAP HANA Python Client API for Machine Learning Algorithms:   \n",
    "   https://help.sap.com/doc/0172e3957b5946da85d3fde85ee8f33d/latest/en-US/html/hana_ml.html\n",
    "-  SAP HANA Predictive Analysis Library (PAL):  \n",
    "   https://help.sap.com/viewer/2cfbc5cf2bc14f028cfbe2a2bba60a50/latest/en-US/f652a8186a144e929a1ade7a3cb7abe8.html\n",
    "-  Dataset: https://www.kaggle.com/bozungu/ebay-used-car-sales-data"
   ]
  },
  {
   "cell_type": "markdown",
   "metadata": {},
   "source": [
    "### Create a SAP HANA DataFrame, which points to the training data\n",
    "Instantiate a connecton object to SAP HANA.\n",
    "-  For simplicity, to help you get started, these values are hardcoded here. \n",
    "-  We recommend keeping these credentials in the Secure User Store of the SAP HANA Client. Retrieving the credentials from the Secure User Store prevents having to specify these credentials in clear text. See the blog on the SAP Commmunity to which these notebooks belong, for steps on how to use that Secure User Store."
   ]
  },
  {
   "cell_type": "code",
   "execution_count": null,
   "metadata": {},
   "outputs": [],
   "source": [
    "import hana_ml.dataframe as dataframe\n",
    "conn = dataframe.ConnectionContext(address = 'hxe.richardschop.nl', port = 39015, database = 'HXE', currentSchema = 'RSCHOP', user = 'RSCHOP', password = 'Aloha1503')"
   ]
  },
  {
   "cell_type": "markdown",
   "metadata": {},
   "source": [
    "Create the SAP HANA DataFrame, which points to the table with historic sales. No data is extracted."
   ]
  },
  {
   "cell_type": "code",
   "execution_count": null,
   "metadata": {},
   "outputs": [],
   "source": [
    "# Create the HANA dataframe in the structure of the specified table\n",
    "df_pushdown = conn.table(table = 'USEDCARPRICES', schema = 'RSCHOP')"
   ]
  },
  {
   "cell_type": "markdown",
   "metadata": {},
   "source": [
    "### Peek at the data and retrieve a small number of rows\n",
    "Notice how no data is displayed, when calling the HANA DataFrame. You will only see the object type: hana_ml.dataframe.DataFrame. At the top of this page you find a link to the SAP HANA Python Client API documentation, where you find all details about the hana_ml package."
   ]
  },
  {
   "cell_type": "code",
   "execution_count": null,
   "metadata": {},
   "outputs": [],
   "source": [
    "df_pushdown"
   ]
  },
  {
   "cell_type": "markdown",
   "metadata": {},
   "source": [
    "To retrieve data into Python, you need to call the collect() function on the DataFrame object. In order to reduce the number of rows that are retrieved, use the head() function beforehand."
   ]
  },
  {
   "cell_type": "code",
   "execution_count": null,
   "metadata": {},
   "outputs": [],
   "source": [
    "df_pushdown.head(3).collect()"
   ]
  },
  {
   "cell_type": "markdown",
   "metadata": {},
   "source": [
    "### Descriptive statistics \n",
    "Display most important data column statistics. All values were calculated within SAP HANA. Notice how some columns have null values. These are rows with missing values."
   ]
  },
  {
   "cell_type": "code",
   "execution_count": null,
   "metadata": {},
   "outputs": [],
   "source": [
    "df_pushdown.describe().collect()"
   ]
  },
  {
   "cell_type": "markdown",
   "metadata": {},
   "source": [
    "### Plot number of vehicles by model\n",
    "The hana_ml package can also create a number of plots, whose underlying data was calculated within SAP HANA. For more specific requirements you can also push down further calculations to SAP HANA and retrieve the result with the collect() function as pandas data frame to create your own plot. Now display the number of vehicles by model."
   ]
  },
  {
   "cell_type": "code",
   "execution_count": null,
   "metadata": {},
   "outputs": [],
   "source": [
    "%matplotlib inline\n",
    "from hana_ml.visualizers.eda import EDAVisualizer\n",
    "import matplotlib.pyplot as plt\n",
    "f = plt.figure()\n",
    "ax1 = f.add_subplot(111) # 111 refers to 1x1 grid, 1st subplot\n",
    "eda = EDAVisualizer(ax1)\n",
    "ax, bar_data = eda.bar_plot(data = df_pushdown,\n",
    "                            column = 'MODEL', \n",
    "                            aggregation = {'MODEL':'count'},\n",
    "                            title = 'Number of vehicles by model')"
   ]
  },
  {
   "cell_type": "markdown",
   "metadata": {},
   "source": [
    "### Drop rows with missing values \n",
    "Many algorithms require the data to be complete without missing values. Descriptive statistics above showed that various columns miss data. There are various options to deal with such missing values, ie to impute or remove the row or column. In the following notebook we will impute. In this introductory example we remove the rows with missing values from the SAP HANA Data Frame.\n",
    "<BR><BR>The rows are not removed from the physical table. They are dropped from the logical construct of the SAP HANA Data Frame. Hence any process or application that might be using the underlying data is not affected."
   ]
  },
  {
   "cell_type": "code",
   "execution_count": null,
   "metadata": {},
   "outputs": [],
   "source": [
    "df_pushdown = df_pushdown.dropna()"
   ]
  },
  {
   "cell_type": "markdown",
   "metadata": {},
   "source": [
    "The SAP HANA Data Frame's SELECT statement shows how the rows with missing values were filtered out."
   ]
  },
  {
   "cell_type": "code",
   "execution_count": null,
   "metadata": {},
   "outputs": [],
   "source": [
    "df_pushdown.select_statement"
   ]
  },
  {
   "cell_type": "markdown",
   "metadata": {},
   "source": [
    "### Train decision tree regression\n",
    "We will train a decision tree to estimate the price. The algorithm does not support the column type INT for the target. Hence convert the PRICE column to type DOUBLE in the SAP HANA Data Frame. The data type is not changed in the physical table."
   ]
  },
  {
   "cell_type": "code",
   "execution_count": null,
   "metadata": {},
   "outputs": [],
   "source": [
    "import hana_ml\n",
    "print(hana_ml.__version__)"
   ]
  },
  {
   "cell_type": "code",
   "execution_count": null,
   "metadata": {},
   "outputs": [],
   "source": [
    "df_pushdown = df_pushdown.cast('PRICE', 'DOUBLE')"
   ]
  },
  {
   "cell_type": "markdown",
   "metadata": {},
   "source": [
    "Train the decision tree with some hardcoded parameters. In the following notebooks we will search for parameters that lead to a stronger models. This notebook is just introducing the basic concept of training Machine Learning models within SAP HANA."
   ]
  },
  {
   "cell_type": "code",
   "execution_count": null,
   "metadata": {},
   "outputs": [],
   "source": [
    "from hana_ml.algorithms.pal import trees\n",
    "tree_reg = trees.DecisionTreeRegressor(algorithm = 'cart',\n",
    "                                       min_records_of_parent = 10,\n",
    "                                       min_records_of_leaf = 2,\n",
    "                                       thread_ratio = 0.4,\n",
    "                                       split_threshold = 1e-5,\n",
    "                                       model_format = 'json',\n",
    "                                       output_rules = True)\n",
    "\n",
    "# Specify the tree's predictors\n",
    "features = ['GEARBOX', 'VEHICLETYPE', 'YEAR', 'MODEL', 'HP', 'FUELTYPE', 'KILOMETER']\n",
    "\n",
    "# Train the tree\n",
    "tree_reg.fit(data = df_pushdown, \n",
    "             key = 'CAR_ID', \n",
    "             label = 'PRICE', \n",
    "             features = features)"
   ]
  },
  {
   "cell_type": "markdown",
   "metadata": {},
   "source": [
    "Once the above cell has been executed, a model has been trained. To see the DecisionTreeRegressor function's signature move the cursor into the round brackets of the function, ie place it after conn_context=conn and press SHIFT+TAB. The signature will be shown as tooltip."
   ]
  },
  {
   "cell_type": "markdown",
   "metadata": {},
   "source": [
    "## Quality metric\n",
    "Calculate the model's performance on the training data. In the following notebooks, the data will be split for training and testing, leading to a more meaninful quality indicators. We calculate R^2, the coefficient of determination. \n",
    "https://en.wikipedia.org/wiki/Coefficient_of_determination"
   ]
  },
  {
   "cell_type": "code",
   "execution_count": null,
   "metadata": {},
   "outputs": [],
   "source": [
    "print('R^2 on training data: ' + str(round(tree_reg.score(data = df_pushdown, \n",
    "                                                          key = 'CAR_ID'), 3)))"
   ]
  },
  {
   "cell_type": "markdown",
   "metadata": {},
   "source": [
    "### Next"
   ]
  },
  {
   "cell_type": "markdown",
   "metadata": {},
   "source": [
    "This was just a brief introduction to the concept of the Python wrapper for SAP HANA.  In the following notebooks we will create a much stronger model!"
   ]
  },
  {
   "cell_type": "code",
   "execution_count": null,
   "metadata": {},
   "outputs": [],
   "source": []
  }
 ],
 "metadata": {
  "createdAt": "2019-05-14T11:32:31Z",
  "description": "Introduction to the concept of the hana_ml wrapper. Optional",
  "kernelspec": {
   "display_name": "HANAEnv",
   "language": "python",
   "name": "hanaenv"
  },
  "language_info": {
   "codemirror_mode": {
    "name": "ipython",
    "version": 3
   },
   "file_extension": ".py",
   "mimetype": "text/x-python",
   "name": "python",
   "nbconvert_exporter": "python",
   "pygments_lexer": "ipython3",
   "version": "3.7.4"
  },
  "modifiedAt": "2019-05-14T11:32:31Z",
  "name": "05 Introduction",
  "rating": 0,
  "scenarioId": "3bd5ee44-92b1-4224-95dc-4e688a637e85"
 },
 "nbformat": 4,
 "nbformat_minor": 4
}
